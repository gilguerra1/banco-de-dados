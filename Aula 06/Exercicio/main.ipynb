{
 "cells": [
  {
   "cell_type": "code",
   "execution_count": 4,
   "id": "53886e8b",
   "metadata": {},
   "outputs": [],
   "source": [
    "\n",
    "import psycopg2 as db\n",
    "import csv"
   ]
  },
  {
   "cell_type": "code",
   "execution_count": 5,
   "id": "9b22ccba",
   "metadata": {},
   "outputs": [],
   "source": [
    "#Configuração de inicialização\n",
    "class Config:\n",
    "    def __init__(self):\n",
    "        self.config = {\n",
    "            \"postgres\": {\n",
    "                \"user\": \"postgres\",\n",
    "                \"password\": \"1234\",\n",
    "                \"host\": \"127.0.0.1\",\n",
    "                \"port\": \"5432\",\n",
    "                \"database\": \"postgres\"\n",
    "            }\n",
    "        }"
   ]
  },
  {
   "cell_type": "code",
   "execution_count": 6,
   "id": "9cbbfe49",
   "metadata": {},
   "outputs": [],
   "source": [
    "class Connection(Config):\n",
    "    def __init__(self):\n",
    "        super().__init__()\n",
    "        try:\n",
    "            self.conn = db.connect(**self.config[\"postgres\"])\n",
    "            self.cur = self.conn.cursor()\n",
    "        except Exception as e:\n",
    "            print(\"Erro na conexão\", e)\n",
    "            exit(1)\n",
    "\n",
    "    def __enter__(self):\n",
    "        return self\n",
    "\n",
    "    def __exit__(self, exc_type, exc_val, exc_tb):\n",
    "        self.commit()\n",
    "        self.connection.close()\n",
    "\n",
    "    @property\n",
    "    def connection(self):\n",
    "        return self.conn\n",
    "\n",
    "    @property\n",
    "    def cursor(self):\n",
    "        return self.cur\n",
    "\n",
    "    def commit(self):\n",
    "        self.connection.commit()\n",
    "\n",
    "    # fetchall retornará em determinados registros que será passado\n",
    "    # instrução SQL\n",
    "    def fetchall(self):\n",
    "        return self.cursor.fetchall()\n",
    "\n",
    "    # Método receberá a instrução SQL passará parâmetros ou tuplas vazias\n",
    "    def execute(self, sql, params=None):\n",
    "        self.cursor.execute(sql, params or ())\n",
    "\n",
    "    # Cria uma instrução por meio de uma consulta(query)\n",
    "    def query(self, sql, params=None):\n",
    "        self.cursor.execute(sql, params or ())\n",
    "        return self.fetchall()"
   ]
  },
  {
   "cell_type": "code",
   "execution_count": 7,
   "id": "9540308d",
   "metadata": {},
   "outputs": [],
   "source": [
    "class Pessoa(Connection):\n",
    "    def __init__(self):\n",
    "        # Chama o construtor da classe base usando super()\n",
    "        super().__init__()\n",
    "    # métodos de manipulação de registros\n",
    "\n",
    "    def insert(self, *args):\n",
    "        try:\n",
    "            sql = \"INSERT INTO pessoa (nome) VALUES (%s)\"\n",
    "            # Usa o método execute da classe base\n",
    "            self.execute(sql, args)\n",
    "            self.commit()\n",
    "        except Exception as e:\n",
    "            print(\"Erro ao inserir\", e)\n",
    "\n",
    "    # método inserir_csv\n",
    "\n",
    "    def insert_csv(self, filename):\n",
    "        try:\n",
    "            data = csv.DictReader(open(filename, encoding=\"utf-8\"))\n",
    "            for row in data:\n",
    "                self.insert(row[\"nome\"])\n",
    "                print(\"Registro Inserido\")\n",
    "        except Exception as e:\n",
    "            print(\"Erro ao inserir csv\", e)\n",
    "    def delete(self, id):\n",
    "        try:\n",
    "            sql_s = f\"SELECT * FROM pessoa WHERE id = {id}\"\n",
    "            if not self.query(sql_s):\n",
    "                return \"Registro não encontrado para deletar\"\n",
    "            sql_d = f\"DELETE FROM pessoa WHERE id = {id}\"\n",
    "            self.execute(sql_d)\n",
    "            self.commit()\n",
    "            return \"Registro deletado\"\n",
    "        except Exception as e:\n",
    "            print(\"Erro ao deletar\", e)\n",
    "    def update(self, id, *args):\n",
    "        try:\n",
    "            sql = f\"UPDATE pessoa SET nome = %s WHERE id = {id}\"\n",
    "            self.execute(sql, args)\n",
    "            self.commit()\n",
    "            print(\"Registro atualizado\")\n",
    "        except Exception as e:\n",
    "            print(\"Erro ao atualizar\", e)"
   ]
  },
  {
   "cell_type": "code",
   "execution_count": 8,
   "id": "4a523bf4",
   "metadata": {},
   "outputs": [],
   "source": [
    "if __name__ == \"__main__\":\n",
    "    pessoa = Pessoa()\n",
    "    pessoa.insert(\"Maria\")\n",
    "    pessoa.delete(18)\n",
    "    pessoa.update(23, \"Maria Antônio\")\n",
    "    pessoa.insert_csv(\"data.csv\")"
   ]
  },
  {
   "cell_type": "code",
   "execution_count": 6,
   "id": "edccd961",
   "metadata": {},
   "outputs": [],
   "source": []
  },
  {
   "cell_type": "code",
   "execution_count": 14,
   "id": "2fbe1ec9",
   "metadata": {},
   "outputs": [
    {
     "name": "stdout",
     "output_type": "stream",
     "text": [
      "Registro atualizado\n"
     ]
    }
   ],
   "source": []
  },
  {
   "cell_type": "code",
   "execution_count": 9,
   "id": "b8129556",
   "metadata": {},
   "outputs": [
    {
     "name": "stdout",
     "output_type": "stream",
     "text": [
      "Registro atualizado\n",
      "Registro Inserido\n",
      "Registro Inserido\n",
      "Registro Inserido\n",
      "Registro Inserido\n",
      "Registro Inserido\n",
      "Registro Inserido\n"
     ]
    }
   ],
   "source": []
  },
  {
   "cell_type": "code",
   "execution_count": null,
   "id": "4d4a1d7c",
   "metadata": {},
   "outputs": [],
   "source": []
  }
 ],
 "metadata": {
  "kernelspec": {
   "display_name": "Python 3 (ipykernel)",
   "language": "python",
   "name": "python3"
  },
  "language_info": {
   "codemirror_mode": {
    "name": "ipython",
    "version": 3
   },
   "file_extension": ".py",
   "mimetype": "text/x-python",
   "name": "python",
   "nbconvert_exporter": "python",
   "pygments_lexer": "ipython3",
   "version": "3.9.13"
  }
 },
 "nbformat": 4,
 "nbformat_minor": 5
}
